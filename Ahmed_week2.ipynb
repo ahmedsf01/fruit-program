{
  "cells": [
    {
      "cell_type": "markdown",
      "metadata": {
        "id": "G8dWoQinQCE8"
      },
      "source": [
        "Homework 2 by Shadman Ahmed"
      ]
    },
    {
      "cell_type": "markdown",
      "metadata": {
        "id": "TyRLC5b6Irkv"
      },
      "source": [
        "Write a while loop that asks the user for a fruit and replies \"I like [the fruit]\" (if the length of the name of the fruit is 5 or less letters) or \"I do not like [the fruit]\" (otherwise) and stops when the user enters \"Stop\".\n"
      ]
    },
    {
      "cell_type": "code",
      "execution_count": null,
      "metadata": {
        "colab": {
          "base_uri": "https://localhost:8080/"
        },
        "id": "sa-B-RU0PKeO",
        "outputId": "c4c5d214-cf89-422d-8a4f-9ac324fb1b55"
      },
      "outputs": [],
      "source": [
        "fruit = \"\"\n",
        "\n",
        "while fruit != \"Stop\":\n",
        "  fruit = input(\"Enter the name of a fruit or Stop (with a capital 'S') to quit.\")\n",
        "  if fruit == \"Stop\":\n",
        "    print(\"Bye. I figured out the code >:)\")\n",
        "  elif len(fruit) <= 5:\n",
        "    print(\"I like the fruit.\")\n",
        "  else:\n",
        "    print(\"I don't like the fruit.\")\n",
        "\n"
      ]
    }
  ],
  "metadata": {
    "colab": {
      "collapsed_sections": [],
      "provenance": []
    },
    "kernelspec": {
      "display_name": "Python 3",
      "name": "python3"
    },
    "language_info": {
      "name": "python"
    }
  },
  "nbformat": 4,
  "nbformat_minor": 0
}
